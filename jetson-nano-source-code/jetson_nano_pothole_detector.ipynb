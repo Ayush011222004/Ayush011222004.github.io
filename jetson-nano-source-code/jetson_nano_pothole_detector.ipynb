{
  "cells": [
    {
      "cell_type": "code",
      "execution_count": 3,
      "metadata": {
        "id": "USwCHEjUSocB",
        "outputId": "fc078603-d786-4e2e-9bb6-5d1249e07884",
        "colab": {
          "base_uri": "https://localhost:8080/",
          "height": 418
        }
      },
      "outputs": [
        {
          "output_type": "stream",
          "name": "stdout",
          "text": [
            "Loading tensorRt graph...\n",
            "Start time =  17:02:10\n"
          ]
        },
        {
          "output_type": "error",
          "ename": "ModuleNotFoundError",
          "evalue": "No module named 'decode_hypothesis'",
          "traceback": [
            "\u001b[0;31m---------------------------------------------------------------------------\u001b[0m",
            "\u001b[0;31mModuleNotFoundError\u001b[0m                       Traceback (most recent call last)",
            "\u001b[0;32m<ipython-input-3-8c27ce923d46>\u001b[0m in \u001b[0;36m<cell line: 0>\u001b[0;34m()\u001b[0m\n\u001b[1;32m     26\u001b[0m \u001b[0;34m\u001b[0m\u001b[0m\n\u001b[1;32m     27\u001b[0m    \u001b[0;31m# Now you can import decode_hypothesis\u001b[0m\u001b[0;34m\u001b[0m\u001b[0;34m\u001b[0m\u001b[0m\n\u001b[0;32m---> 28\u001b[0;31m \u001b[0;32mfrom\u001b[0m \u001b[0mdecode_hypothesis\u001b[0m \u001b[0;32mimport\u001b[0m \u001b[0mdecode_hypothesis\u001b[0m\u001b[0;34m\u001b[0m\u001b[0;34m\u001b[0m\u001b[0m\n\u001b[0m\u001b[1;32m     29\u001b[0m \u001b[0;31m# from decode_hypothesis import decode_hypothesis\u001b[0m\u001b[0;34m\u001b[0m\u001b[0;34m\u001b[0m\u001b[0m\n\u001b[1;32m     30\u001b[0m \u001b[0;32mimport\u001b[0m \u001b[0mload_trt_graph\u001b[0m \u001b[0;32mas\u001b[0m \u001b[0mpotholeGraph\u001b[0m\u001b[0;34m\u001b[0m\u001b[0;34m\u001b[0m\u001b[0m\n",
            "\u001b[0;31mModuleNotFoundError\u001b[0m: No module named 'decode_hypothesis'",
            "",
            "\u001b[0;31m---------------------------------------------------------------------------\u001b[0;32m\nNOTE: If your import is failing due to a missing package, you can\nmanually install dependencies using either !pip or !apt.\n\nTo view examples of installing some common dependencies, click the\n\"Open Examples\" button below.\n\u001b[0;31m---------------------------------------------------------------------------\u001b[0m\n"
          ],
          "errorDetails": {
            "actions": [
              {
                "action": "open_url",
                "actionText": "Open Examples",
                "url": "/notebooks/snippets/importing_libraries.ipynb"
              }
            ]
          }
        }
      ],
      "source": [
        "###################\n",
        "#Written by Jordan Bennett\n",
        "#Part B/4. Make predictions based on FP16 graph.\n",
        "#This is not expected to work on windows.\n",
        "#Expected to work on google colab or jetson nano like platform.\n",
        "###################\n",
        "\n",
        "###########\n",
        "#Section 1: Load TensorRT graph/saved model, as well as prediction and prediction decoder\n",
        "###########\n",
        "\n",
        "\n",
        "import sys\n",
        "import os\n",
        "\n",
        "   # Get the directory containing decode_hypothesis.py\n",
        "module_path = os.path.abspath(os.path.join('/path/to/directory/containing/decode_hypothesis.py'))\n",
        "\n",
        "   # Add the directory to the Python path\n",
        "sys.path.append(module_path)\n",
        "print (\"Loading tensorRt graph...\")\n",
        "\n",
        "from  datetime import datetime\n",
        "now = datetime.now ( )\n",
        "startTime = now.strftime(\"%H:%M:%S\")\n",
        "print ( \"Start time = \", startTime )\n",
        "   # Now you can import decode_hypothesis\n",
        "from decode_hypothesis import decode_hypothesis\n",
        "# from decode_hypothesis import decode_hypothesis\n",
        "import load_trt_graph as potholeGraph\n",
        "from tensorflow.keras.preprocessing import image\n",
        "import numpy as np\n",
        "\n",
        "\n",
        "def getPrediction (image_path__):\n",
        "  img = image.load_img(image_path__, target_size=potholeGraph.image_size[:2]) #where image_size[:2] = \"[416,416,3]\", which corresponds somewhat to config[\"input_size\"] in config.json.\n",
        "\n",
        "  x = image.img_to_array(img)/255.0 #CRUCIAL!!!-->jordan_normalize IMAGE_DATA=image.img_to_array(...) as seen in desktop version. Otherwise image data contains large integers, which is not expected by the trained pothole model which expects small normalized floating point values.\n",
        "  x = np.expand_dims(x, axis=0)\n",
        "\n",
        "  #x = preprocess_input(x) #irrelevant to hyppothesis accuracy\n",
        "\n",
        "  feed_dict = {\n",
        "      potholeGraph.input_tensor_name: x\n",
        "  }\n",
        "\n",
        "  hypothesis = potholeGraph.tf_sess.run(potholeGraph.output_tensor, feed_dict)\n",
        "\n",
        "  hypothesis = hypothesis.reshape ( 13, 13, 5, 6 ) #jordan_addition: correct network output shape based on observation of desktop output analysis\n",
        "\n",
        "\n",
        "  #jordan_note: The output of the neural network is a bunch of pixels, or bounding boxes. Cardinality of those boxes equals pothole cardinality.\n",
        "  print('Caution!', len(decode_hypothesis(hypothesis)), 'pothole(s) are detected ahead from input image: ', image_path__ )\n",
        "\n",
        "\n",
        "then = datetime.now ( )\n",
        "endTime = then.strftime(\"%H:%M:%S\")\n",
        "print ( \"Loaded trt graph @ end time = \", endTime )\n"
      ]
    },
    {
      "source": [],
      "cell_type": "code",
      "metadata": {
        "id": "-UqAFcblTwJq"
      },
      "execution_count": null,
      "outputs": []
    },
    {
      "cell_type": "code",
      "execution_count": null,
      "metadata": {
        "id": "w8bEjlAlSocE"
      },
      "outputs": [],
      "source": [
        "\n",
        "###########\n",
        "#Section 2: Do predictions based on loaded graph\n",
        "###########\n",
        "print (\"Begin smart pothole detection on 4 sample images...\")\n",
        "\n",
        "\n",
        "########################################################\n",
        "########################################################\n",
        "#####Test on image sample 0, with 8 potholes\n",
        "getPrediction ('pothole_sample_0.jpg')\n",
        "#####Test on image sample 1, with 8 potholes\n",
        "getPrediction ('pothole_sample_1.jpg')\n",
        "#####Test on image sample 2, with 8 potholes\n",
        "getPrediction ('pothole_sample_2.jpg')\n",
        "#####Test on image sample 3, with 0 potholes\n",
        "getPrediction ('pothole_negative_sample.jpg')\n",
        "\n",
        "\n",
        "\n",
        "###############################################\n",
        "#Runtime cost test. Test speed of prediction on optimized tensor rt graph\n",
        "#this same code is ran in Desktop version, which yielded (except for getPrediction which is swapped with desktop equivalent)\n",
        "print(\"\\n\\n########\\nExecution runtime cost test\")\n",
        "import time\n",
        "times = []\n",
        "for i in range(20):\n",
        "    start_time = time.time()\n",
        "    getPrediction ('pothole_sample_2.jpg')\n",
        "    delta = (time.time() - start_time)\n",
        "    times.append(delta)\n",
        "mean_delta = np.array(times).mean()\n",
        "fps = 1 / mean_delta\n",
        "print('average(sec):{:.2f},fps:{:.2f}'.format(mean_delta, fps))\n"
      ]
    },
    {
      "cell_type": "code",
      "execution_count": null,
      "metadata": {
        "id": "RFxWjVmbSocE"
      },
      "outputs": [],
      "source": []
    }
  ],
  "metadata": {
    "kernelspec": {
      "display_name": "Python 3",
      "name": "python3"
    },
    "language_info": {
      "codemirror_mode": {
        "name": "ipython",
        "version": 3
      },
      "file_extension": ".py",
      "mimetype": "text/x-python",
      "name": "python",
      "nbconvert_exporter": "python",
      "pygments_lexer": "ipython3",
      "version": "3.6.8"
    },
    "colab": {
      "provenance": [],
      "gpuType": "V28"
    },
    "accelerator": "TPU"
  },
  "nbformat": 4,
  "nbformat_minor": 0
}